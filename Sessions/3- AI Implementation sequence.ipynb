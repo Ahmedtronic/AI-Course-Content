{
 "cells": [
  {
   "cell_type": "markdown",
   "metadata": {},
   "source": [
    "# AI Pipeline"
   ]
  },
  {
   "cell_type": "markdown",
   "metadata": {},
   "source": [
    "<b style= \"font-family: arial \"> AI pipeline is the sequence of operations to be done to create an AI model to solve a specific problem </b>"
   ]
  },
  {
   "cell_type": "markdown",
   "metadata": {},
   "source": [
    "\n",
    "<li>1- Data Gathering ( collecting data )</li>\n",
    "<li>2- Data Preprocessing </li>\n",
    "<li>3- Feature Engineering </li>\n",
    "<li>4- Model Selection</li>\n",
    "<li>5- Transformation / Fitting</li>\n",
    "<li>6- Training </li>\n",
    "<li>7- Testing </li>\n",
    "<li>8- Deployment </li>\n",
    "<li>9- Monitoring Performance</li>\n"
   ]
  },
  {
   "cell_type": "markdown",
   "metadata": {
    "ExecuteTime": {
     "end_time": "2021-02-18T00:54:12.318801Z",
     "start_time": "2021-02-18T00:54:08.355445Z"
    }
   },
   "source": [
    "## Step 1: Data Gathering: \n",
    "### Collecting all the data required to solve the problems\n",
    "#### Where does this data come from ? \n",
    "1- The Organization data itself ( employees performance, users behavior, market status, needs, shared data )<br>\n",
    "2- The new collected data ( the data Engineer must specify what data needed and why <br>\n",
    "3- Scapping ( getting the data ourselves from the web <br>\n",
    "4- Surveys ( forms might be filled to collect enough data"
   ]
  },
  {
   "cell_type": "markdown",
   "metadata": {},
   "source": [
    "## Step 2: Data Preprocessing/ Handling:\n",
    "The collected data might be corrupted, missing rows, columns, formatted in a wrong way, in this step we filter the data to make sure it is ready to be fitted in the model\n"
   ]
  },
  {
   "cell_type": "markdown",
   "metadata": {},
   "source": [
    "## Step 3: Feature Engineering/ Selection:\n",
    "\n",
    "After the data is filtered, the Data Scientist ( Analyist ) perform some statistical operation to filter only the important data from the whole data \n",
    "\n",
    "### Why this is an issue ?\n",
    "\n",
    "This processes needs deep knowledge in the problem to select the best features.<br>\n",
    "Statistics may show that the important features are not the features that are logically important ( According to the problem field ) which could mean on of two things: \n",
    "<li>1- The data is not enough ( or even not right )</li> \n",
    "<li>2- The statistics are not done proberly </li>\n",
    "\n",
    "#### Possible Solutions: \n",
    "* Redo the calculations\n",
    "* update the data itself\n",
    "* go with what the statsitics said\n",
    "* go with the logical features\n",
    "\n",
    "##### What is the problem with theses possible solutions?\n",
    "* Time Consumption\n",
    "* Data Storage \n",
    "* Processing power \n",
    "* Overall confusion which may lead to uncountable mistakes and then get back to square zero"
   ]
  },
  {
   "cell_type": "markdown",
   "metadata": {},
   "source": [
    "## Step 4: Model Selection:\n",
    "\n",
    "### What parameters do we consider when selecting our model?\n",
    "\n",
    "#### 1- The problem Type:\n",
    "Possible problem types : Classification - Regression - clustering - Generation <br>\n",
    "Also, if the problem is critical we may need to use the model that are more likely to perform better even if it's slower\n",
    "\n",
    "#### 2- Data type/ size:\n",
    "Based on the data size we select the model that handel this amount of data in an easy way<br>\n",
    "if the data is small we might be able to try different models to select the one that has the best performance, otherwise it's <b> Time Consuming </b>\n",
    "\n",
    "\n",
    "#### 3- Time:\n",
    "If we have a long time to get the best solution, we should consider giving more time to think about the model, and may even try some models and compare their accuracy. <br>\n",
    "\n",
    "If we don't have that amount of time, we choose the fastest most promising to give the best performance model ( this can be done because we know our data proberly so we know what is the best model for this kind of data.\n"
   ]
  },
  {
   "cell_type": "markdown",
   "metadata": {},
   "source": [
    "## Step 5: Fitting/ Transformation:\n",
    "\n",
    "A model accepts data only in numeric values shaped as arrays or vectors (i.e. numpy arrays in python ) <br>\n",
    "so before fitting the data we need to make sure it's the best representation of our data to be fitted into our model, that may include a regularization or normalization step.\n",
    "\n",
    "### Spliting the data\n",
    "We have to split the data to be able to test the model later <br>\n",
    "Data is splitted into training data and test data<br>\n",
    "Then we fit the Training data"
   ]
  },
  {
   "cell_type": "markdown",
   "metadata": {},
   "source": [
    "## Step 6: Training:\n",
    "Trainig process is basically ordering the model to start learning from this data. <br>\n",
    "\n",
    "<b> We control this phase by specifying the training time, and some other arguments like ( patch size, epoches, random states , activation function ..etc.)"
   ]
  },
  {
   "cell_type": "markdown",
   "metadata": {},
   "source": [
    "## Step 7: Testing:\n",
    "\n",
    "The most important phase, we want to check that our model performes as we hoped, we check the accuracy, check for overfitting and underfitting, and also check for which data were right and which were wrong \n",
    "\n",
    "Testing is done on the test data ( sometimes on all data if some algorithms are applied )\n",
    "\n",
    "<b> Testing has two cases: </b>\n",
    "\n",
    "### Accepted : when we have achieved the performance we hoped for\n",
    "### Failed : when the model doesn't perform well\n",
    "\n",
    "#### Solution Sequence:\n",
    "If our model fails the test, we do these operations in order:\n",
    "\n",
    "##### 1- Increase the training time ( Hyperparameter Tuining )  \n",
    "##### 2- If step one failed, we try to change the model to a different one \n",
    "##### 3- If step two failed, we return to our data to perform reprocessing and analysis on it ( may cause to change its format or features )\n",
    "\n",
    "<br> <b> This often happens due to :</b> \n",
    "<br> <br>\n",
    "<li> 1- Data, data in real life problems have a high ratio of randomness, misleading info, misunderstood concepts </li>\n",
    "<li> 2- Not enough time was set to data perprocessing and feature engineering </li>\n",
    "<li> 3- The problem is too complicated and need a long phase of model optimiztion </li>\n",
    " "
   ]
  },
  {
   "cell_type": "markdown",
   "metadata": {},
   "source": [
    "## Step 8: Deployment : The process of actually using the model to solve new instances of the trained on problem\n",
    "\n",
    "This is done by saving the model, model weights, uploading the model to a server ( could be local ) and then use it via an application request using the API"
   ]
  },
  {
   "cell_type": "markdown",
   "metadata": {},
   "source": [
    "## Step 9: Monitoring Peformance: \n",
    "\n",
    "As the behavior of the data changes due to many reasons, the model should adapt to theses changes in data values and range, so we have to eight retrain it every now and then ( based on some conditions )\n",
    "Or use transfer learning ( Automate the process )"
   ]
  },
  {
   "cell_type": "markdown",
   "metadata": {},
   "source": []
  }
 ],
 "metadata": {
  "kernelspec": {
   "display_name": "Python 3",
   "language": "python",
   "name": "python3"
  },
  "language_info": {
   "codemirror_mode": {
    "name": "ipython",
    "version": 3
   },
   "file_extension": ".py",
   "mimetype": "text/x-python",
   "name": "python",
   "nbconvert_exporter": "python",
   "pygments_lexer": "ipython3",
   "version": "3.8.5"
  },
  "toc": {
   "base_numbering": 1,
   "nav_menu": {},
   "number_sections": false,
   "sideBar": true,
   "skip_h1_title": false,
   "title_cell": "Table of Contents",
   "title_sidebar": "Contents",
   "toc_cell": false,
   "toc_position": {
    "height": "calc(100% - 180px)",
    "left": "10px",
    "top": "150px",
    "width": "214.6px"
   },
   "toc_section_display": true,
   "toc_window_display": false
  },
  "varInspector": {
   "cols": {
    "lenName": 16,
    "lenType": 16,
    "lenVar": 40
   },
   "kernels_config": {
    "python": {
     "delete_cmd_postfix": "",
     "delete_cmd_prefix": "del ",
     "library": "var_list.py",
     "varRefreshCmd": "print(var_dic_list())"
    },
    "r": {
     "delete_cmd_postfix": ") ",
     "delete_cmd_prefix": "rm(",
     "library": "var_list.r",
     "varRefreshCmd": "cat(var_dic_list()) "
    }
   },
   "types_to_exclude": [
    "module",
    "function",
    "builtin_function_or_method",
    "instance",
    "_Feature"
   ],
   "window_display": false
  }
 },
 "nbformat": 4,
 "nbformat_minor": 4
}
